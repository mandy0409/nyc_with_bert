{
 "metadata": {
  "language_info": {
   "codemirror_mode": {
    "name": "ipython",
    "version": 3
   },
   "file_extension": ".py",
   "mimetype": "text/x-python",
   "name": "python",
   "nbconvert_exporter": "python",
   "pygments_lexer": "ipython3",
   "version": "3.8.3-final"
  },
  "orig_nbformat": 2,
  "kernelspec": {
   "name": "python_defaultSpec_1600593124299",
   "display_name": "Python 3.8.3 64-bit ('virtualenv': conda)"
  }
 },
 "nbformat": 4,
 "nbformat_minor": 2,
 "cells": [
  {
   "cell_type": "code",
   "execution_count": null,
   "metadata": {},
   "outputs": [],
   "source": [
    "import os\n",
    "#import h5py\n",
    "import pickle\n",
    "import time\n",
    "import argparse\n",
    "import numpy as np\n",
    "import pandas as pd\n",
    "import collections\n",
    "from sklearn.model_selection import train_test_split\n",
    "\n",
    "from glob import glob\n",
    "from tqdm import tqdm\n",
    "from random import shuffle\n",
    "from datetime import datetime\n",
    "from itertools import product\n",
    "\n",
    "import h5py"
   ]
  },
  {
   "cell_type": "code",
   "execution_count": null,
   "metadata": {
    "tags": []
   },
   "outputs": [],
   "source": []
  },
  {
   "cell_type": "code",
   "execution_count": null,
   "metadata": {},
   "outputs": [],
   "source": [
    "total_count_dat=pd.read_csv('./data/newyork_yellow_taxi_total_count.csv') "
   ]
  },
  {
   "cell_type": "code",
   "execution_count": null,
   "metadata": {},
   "outputs": [],
   "source": [
    "total_count_dat = total_count_dat.sort_values(['location', 'date', 'hour'])"
   ]
  },
  {
   "cell_type": "code",
   "execution_count": null,
   "metadata": {},
   "outputs": [],
   "source": [
    "total_count_dat=total_count_dat.drop(columns=['Unnamed: 0'])"
   ]
  },
  {
   "cell_type": "code",
   "execution_count": null,
   "metadata": {
    "tags": []
   },
   "outputs": [],
   "source": [
    "total_count_dat['input_']=total_count_dat['count']"
   ]
  },
  {
   "cell_type": "code",
   "execution_count": null,
   "metadata": {},
   "outputs": [],
   "source": [
    "total_count_dat.rename(columns={\"weekday\":\"weekday_\",\"hour\":\"hour_\"}, inplace=True)"
   ]
  },
  {
   "cell_type": "code",
   "execution_count": null,
   "metadata": {
    "tags": []
   },
   "outputs": [],
   "source": [
    "data_for_dict=pd.DataFrame(columns={\"input_\",\"weekday_\",\"hour_\",\"output_\"})\n",
    "#data_for_dict=pd.DataFrame()\n",
    "\n"
   ]
  },
  {
   "cell_type": "code",
   "execution_count": null,
   "metadata": {
    "tags": []
   },
   "outputs": [],
   "source": [
    "total_count_dat[0:1].to_dict('r')"
   ]
  },
  {
   "cell_type": "code",
   "execution_count": 33,
   "metadata": {
    "tags": []
   },
   "outputs": [
    {
     "output_type": "stream",
     "name": "stderr",
     "text": "100%|██████████| 263/263 [34:10<00:00,  7.80s/it]\n"
    }
   ],
   "source": [
    "\n",
    "\n",
    "for i in tqdm(set(total_count_dat['location'])):\n",
    "    l_dat=total_count_dat[total_count_dat['location']==1] #이렇게 되면 location이 1인 경우만 한해서 들어갈거 같은데? \n",
    "    for a in range(len(l_dat)-24):\n",
    "        src_dat=l_dat[a:a+12][[\"input_\",\"weekday_\",\"hour_\"]]\n",
    "  \n",
    "        src_dat['output_']=l_dat.iloc[a+12:a+24]['count'].values\n",
    "\n",
    "        dat=src_dat[[\"input_\",\"weekday_\",\"hour_\",\"output_\"]]\n",
    "\n",
    "        \n",
    "\n",
    "        \n",
    "    data_for_dict=data_for_dict.append(src_dat)\n",
    "    \n",
    "       \n",
    "\n",
    "\n",
    "#shuffle말고 split dataset으로 그냥 끝내버릴테다.(...)\n",
    "#src_dat.rename(columns={\"count\":\"input_\", \"weekday\":\"weekday_\",\"hour\":\"hour_\"}, inplace=True)\n"
   ]
  },
  {
   "cell_type": "code",
   "execution_count": 34,
   "metadata": {
    "tags": []
   },
   "outputs": [],
   "source": [
    "#Dataset 분할 \n",
    "var_train_size=int(len(data_for_dict)*0.8)\n",
    "train_dataset, test_dataset=train_test_split(data_for_dict, train_size=var_train_size, shuffle=True, random_state=42)"
   ]
  },
  {
   "cell_type": "code",
   "execution_count": 35,
   "metadata": {},
   "outputs": [],
   "source": [
    "train_dataset_for_file=train_dataset.to_dict('r')"
   ]
  },
  {
   "cell_type": "code",
   "execution_count": 51,
   "metadata": {},
   "outputs": [
    {
     "output_type": "execute_result",
     "data": {
      "text/plain": "1116"
     },
     "metadata": {},
     "execution_count": 51
    }
   ],
   "source": [
    "len(test_dataset)"
   ]
  },
  {
   "cell_type": "code",
   "execution_count": 36,
   "metadata": {},
   "outputs": [],
   "source": [
    "with open('preprocessed_train.pickle','wb') as f:\n",
    "   pickle.dump(train_dataset_for_file,f)\n",
    "    "
   ]
  },
  {
   "cell_type": "code",
   "execution_count": 46,
   "metadata": {
    "tags": []
   },
   "outputs": [
    {
     "output_type": "stream",
     "name": "stdout",
     "text": "2\n"
    }
   ],
   "source": [
    "with open('preprocessed_train.pickle','rb') as f:\n",
    "   test=pickle.load(f)\n"
   ]
  },
  {
   "cell_type": "code",
   "execution_count": null,
   "metadata": {},
   "outputs": [],
   "source": [
    "with open('preprocessed_valid.pickle','wb') as f:\n",
    "   pickle.dump(test_dataset_for_file,f)\n",
    "    "
   ]
  },
  {
   "cell_type": "code",
   "execution_count": null,
   "metadata": {},
   "outputs": [],
   "source": []
  },
  {
   "cell_type": "code",
   "execution_count": null,
   "metadata": {
    "tags": []
   },
   "outputs": [],
   "source": [
    "with open('preprocessed_train.pickle','rb') as f:\n",
    "    test0=pickle.load(f)\n",
    "    test1=pickle.load(f)\n",
    "print(test1[0])"
   ]
  }
 ]
}